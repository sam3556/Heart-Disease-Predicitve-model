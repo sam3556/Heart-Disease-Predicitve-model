{
 "cells": [
  {
   "cell_type": "code",
   "execution_count": 2,
   "metadata": {},
   "outputs": [],
   "source": [
    "import pandas as pd\n",
    "import numpy as np\n",
    "import matplotlib.pyplot as plt"
   ]
  },
  {
   "cell_type": "code",
   "execution_count": 3,
   "metadata": {},
   "outputs": [
    {
     "data": {
      "text/html": [
       "<div>\n",
       "<style scoped>\n",
       "    .dataframe tbody tr th:only-of-type {\n",
       "        vertical-align: middle;\n",
       "    }\n",
       "\n",
       "    .dataframe tbody tr th {\n",
       "        vertical-align: top;\n",
       "    }\n",
       "\n",
       "    .dataframe thead th {\n",
       "        text-align: right;\n",
       "    }\n",
       "</style>\n",
       "<table border=\"1\" class=\"dataframe\">\n",
       "  <thead>\n",
       "    <tr style=\"text-align: right;\">\n",
       "      <th></th>\n",
       "      <th>age</th>\n",
       "      <th>sex</th>\n",
       "      <th>cp</th>\n",
       "      <th>trestbps</th>\n",
       "      <th>chol</th>\n",
       "      <th>fbs</th>\n",
       "      <th>restecg</th>\n",
       "      <th>thalach</th>\n",
       "      <th>exang</th>\n",
       "      <th>oldpeak</th>\n",
       "      <th>slope</th>\n",
       "      <th>ca</th>\n",
       "      <th>thal</th>\n",
       "      <th>target</th>\n",
       "    </tr>\n",
       "  </thead>\n",
       "  <tbody>\n",
       "    <tr>\n",
       "      <th>0</th>\n",
       "      <td>63</td>\n",
       "      <td>1</td>\n",
       "      <td>3</td>\n",
       "      <td>145</td>\n",
       "      <td>233</td>\n",
       "      <td>1</td>\n",
       "      <td>0</td>\n",
       "      <td>150</td>\n",
       "      <td>0</td>\n",
       "      <td>2.3</td>\n",
       "      <td>0</td>\n",
       "      <td>0</td>\n",
       "      <td>1</td>\n",
       "      <td>1</td>\n",
       "    </tr>\n",
       "    <tr>\n",
       "      <th>1</th>\n",
       "      <td>37</td>\n",
       "      <td>1</td>\n",
       "      <td>2</td>\n",
       "      <td>130</td>\n",
       "      <td>250</td>\n",
       "      <td>0</td>\n",
       "      <td>1</td>\n",
       "      <td>187</td>\n",
       "      <td>0</td>\n",
       "      <td>3.5</td>\n",
       "      <td>0</td>\n",
       "      <td>0</td>\n",
       "      <td>2</td>\n",
       "      <td>1</td>\n",
       "    </tr>\n",
       "    <tr>\n",
       "      <th>2</th>\n",
       "      <td>41</td>\n",
       "      <td>0</td>\n",
       "      <td>1</td>\n",
       "      <td>130</td>\n",
       "      <td>204</td>\n",
       "      <td>0</td>\n",
       "      <td>0</td>\n",
       "      <td>172</td>\n",
       "      <td>0</td>\n",
       "      <td>1.4</td>\n",
       "      <td>2</td>\n",
       "      <td>0</td>\n",
       "      <td>2</td>\n",
       "      <td>1</td>\n",
       "    </tr>\n",
       "    <tr>\n",
       "      <th>3</th>\n",
       "      <td>56</td>\n",
       "      <td>1</td>\n",
       "      <td>1</td>\n",
       "      <td>120</td>\n",
       "      <td>236</td>\n",
       "      <td>0</td>\n",
       "      <td>1</td>\n",
       "      <td>178</td>\n",
       "      <td>0</td>\n",
       "      <td>0.8</td>\n",
       "      <td>2</td>\n",
       "      <td>0</td>\n",
       "      <td>2</td>\n",
       "      <td>1</td>\n",
       "    </tr>\n",
       "    <tr>\n",
       "      <th>4</th>\n",
       "      <td>57</td>\n",
       "      <td>0</td>\n",
       "      <td>0</td>\n",
       "      <td>120</td>\n",
       "      <td>354</td>\n",
       "      <td>0</td>\n",
       "      <td>1</td>\n",
       "      <td>163</td>\n",
       "      <td>1</td>\n",
       "      <td>0.6</td>\n",
       "      <td>2</td>\n",
       "      <td>0</td>\n",
       "      <td>2</td>\n",
       "      <td>1</td>\n",
       "    </tr>\n",
       "  </tbody>\n",
       "</table>\n",
       "</div>"
      ],
      "text/plain": [
       "   age  sex  cp  trestbps  chol  fbs  restecg  thalach  exang  oldpeak  slope  \\\n",
       "0   63    1   3       145   233    1        0      150      0      2.3      0   \n",
       "1   37    1   2       130   250    0        1      187      0      3.5      0   \n",
       "2   41    0   1       130   204    0        0      172      0      1.4      2   \n",
       "3   56    1   1       120   236    0        1      178      0      0.8      2   \n",
       "4   57    0   0       120   354    0        1      163      1      0.6      2   \n",
       "\n",
       "   ca  thal  target  \n",
       "0   0     1       1  \n",
       "1   0     2       1  \n",
       "2   0     2       1  \n",
       "3   0     2       1  \n",
       "4   0     2       1  "
      ]
     },
     "execution_count": 3,
     "metadata": {},
     "output_type": "execute_result"
    }
   ],
   "source": [
    "data=pd.read_csv(\"C:/Users/taylu/OneDrive/Desktop/heart.csv\")\n",
    "data.head()"
   ]
  },
  {
   "cell_type": "code",
   "execution_count": 4,
   "metadata": {},
   "outputs": [
    {
     "data": {
      "text/plain": [
       "Index(['age', 'sex', 'cp', 'trestbps', 'chol', 'fbs', 'restecg', 'thalach',\n",
       "       'exang', 'oldpeak', 'slope', 'ca', 'thal', 'target'],\n",
       "      dtype='object')"
      ]
     },
     "execution_count": 4,
     "metadata": {},
     "output_type": "execute_result"
    }
   ],
   "source": [
    "data.shape\n",
    "data.columns"
   ]
  },
  {
   "cell_type": "code",
   "execution_count": 5,
   "metadata": {},
   "outputs": [],
   "source": [
    "y=data.iloc[:,-1]\n",
    "x=data.loc[:,'age':'thal']"
   ]
  },
  {
   "cell_type": "code",
   "execution_count": 6,
   "metadata": {},
   "outputs": [],
   "source": [
    "from sklearn.linear_model import LogisticRegression\n",
    "from sklearn.model_selection import train_test_split\n",
    "from sklearn.metrics import confusion_matrix\n",
    "from sklearn.preprocessing import StandardScaler"
   ]
  },
  {
   "cell_type": "markdown",
   "metadata": {},
   "source": [
    "# Logistic Regression "
   ]
  },
  {
   "cell_type": "code",
   "execution_count": 53,
   "metadata": {},
   "outputs": [
    {
     "data": {
      "text/html": [
       "<div>\n",
       "<style scoped>\n",
       "    .dataframe tbody tr th:only-of-type {\n",
       "        vertical-align: middle;\n",
       "    }\n",
       "\n",
       "    .dataframe tbody tr th {\n",
       "        vertical-align: top;\n",
       "    }\n",
       "\n",
       "    .dataframe thead th {\n",
       "        text-align: right;\n",
       "    }\n",
       "</style>\n",
       "<table border=\"1\" class=\"dataframe\">\n",
       "  <thead>\n",
       "    <tr style=\"text-align: right;\">\n",
       "      <th></th>\n",
       "      <th>0</th>\n",
       "      <th>1</th>\n",
       "      <th>2</th>\n",
       "      <th>3</th>\n",
       "      <th>4</th>\n",
       "      <th>5</th>\n",
       "      <th>6</th>\n",
       "      <th>7</th>\n",
       "      <th>8</th>\n",
       "      <th>9</th>\n",
       "      <th>10</th>\n",
       "      <th>11</th>\n",
       "      <th>12</th>\n",
       "    </tr>\n",
       "  </thead>\n",
       "  <tbody>\n",
       "    <tr>\n",
       "      <th>0</th>\n",
       "      <td>-1.270009</td>\n",
       "      <td>0.739895</td>\n",
       "      <td>1.031281</td>\n",
       "      <td>-0.102004</td>\n",
       "      <td>1.427938</td>\n",
       "      <td>-0.398083</td>\n",
       "      <td>0.839329</td>\n",
       "      <td>0.527421</td>\n",
       "      <td>-0.657596</td>\n",
       "      <td>0.669704</td>\n",
       "      <td>0.975399</td>\n",
       "      <td>0.325523</td>\n",
       "      <td>-0.534723</td>\n",
       "    </tr>\n",
       "    <tr>\n",
       "      <th>1</th>\n",
       "      <td>-0.373656</td>\n",
       "      <td>0.739895</td>\n",
       "      <td>-0.947286</td>\n",
       "      <td>0.455340</td>\n",
       "      <td>0.360830</td>\n",
       "      <td>-0.398083</td>\n",
       "      <td>-1.033700</td>\n",
       "      <td>1.584755</td>\n",
       "      <td>1.520691</td>\n",
       "      <td>-0.911520</td>\n",
       "      <td>0.975399</td>\n",
       "      <td>-0.704490</td>\n",
       "      <td>-0.534723</td>\n",
       "    </tr>\n",
       "    <tr>\n",
       "      <th>2</th>\n",
       "      <td>-1.718185</td>\n",
       "      <td>-1.351542</td>\n",
       "      <td>1.031281</td>\n",
       "      <td>-2.108443</td>\n",
       "      <td>-0.864369</td>\n",
       "      <td>-0.398083</td>\n",
       "      <td>0.839329</td>\n",
       "      <td>1.276366</td>\n",
       "      <td>-0.657596</td>\n",
       "      <td>-0.911520</td>\n",
       "      <td>0.975399</td>\n",
       "      <td>-0.704490</td>\n",
       "      <td>-0.534723</td>\n",
       "    </tr>\n",
       "    <tr>\n",
       "      <th>3</th>\n",
       "      <td>0.298608</td>\n",
       "      <td>-1.351542</td>\n",
       "      <td>-0.947286</td>\n",
       "      <td>-0.213473</td>\n",
       "      <td>1.190803</td>\n",
       "      <td>-0.398083</td>\n",
       "      <td>-1.033700</td>\n",
       "      <td>0.395254</td>\n",
       "      <td>-0.657596</td>\n",
       "      <td>-0.911520</td>\n",
       "      <td>0.975399</td>\n",
       "      <td>0.325523</td>\n",
       "      <td>-0.534723</td>\n",
       "    </tr>\n",
       "    <tr>\n",
       "      <th>4</th>\n",
       "      <td>-0.485700</td>\n",
       "      <td>-1.351542</td>\n",
       "      <td>0.041998</td>\n",
       "      <td>-0.659348</td>\n",
       "      <td>0.024888</td>\n",
       "      <td>-0.398083</td>\n",
       "      <td>0.839329</td>\n",
       "      <td>0.527421</td>\n",
       "      <td>-0.657596</td>\n",
       "      <td>0.003926</td>\n",
       "      <td>0.975399</td>\n",
       "      <td>-0.704490</td>\n",
       "      <td>-0.534723</td>\n",
       "    </tr>\n",
       "    <tr>\n",
       "      <th>...</th>\n",
       "      <td>...</td>\n",
       "      <td>...</td>\n",
       "      <td>...</td>\n",
       "      <td>...</td>\n",
       "      <td>...</td>\n",
       "      <td>...</td>\n",
       "      <td>...</td>\n",
       "      <td>...</td>\n",
       "      <td>...</td>\n",
       "      <td>...</td>\n",
       "      <td>...</td>\n",
       "      <td>...</td>\n",
       "      <td>...</td>\n",
       "    </tr>\n",
       "    <tr>\n",
       "      <th>207</th>\n",
       "      <td>-0.373656</td>\n",
       "      <td>0.739895</td>\n",
       "      <td>1.031281</td>\n",
       "      <td>-2.108443</td>\n",
       "      <td>-0.311054</td>\n",
       "      <td>-0.398083</td>\n",
       "      <td>0.839329</td>\n",
       "      <td>0.174976</td>\n",
       "      <td>1.520691</td>\n",
       "      <td>-0.911520</td>\n",
       "      <td>0.975399</td>\n",
       "      <td>0.325523</td>\n",
       "      <td>1.108194</td>\n",
       "    </tr>\n",
       "    <tr>\n",
       "      <th>208</th>\n",
       "      <td>0.410652</td>\n",
       "      <td>-1.351542</td>\n",
       "      <td>0.041998</td>\n",
       "      <td>0.232402</td>\n",
       "      <td>1.506983</td>\n",
       "      <td>2.512040</td>\n",
       "      <td>-1.033700</td>\n",
       "      <td>0.086864</td>\n",
       "      <td>-0.657596</td>\n",
       "      <td>-0.911520</td>\n",
       "      <td>0.975399</td>\n",
       "      <td>1.355535</td>\n",
       "      <td>-0.534723</td>\n",
       "    </tr>\n",
       "    <tr>\n",
       "      <th>209</th>\n",
       "      <td>1.194960</td>\n",
       "      <td>0.739895</td>\n",
       "      <td>-0.947286</td>\n",
       "      <td>0.176668</td>\n",
       "      <td>0.222501</td>\n",
       "      <td>-0.398083</td>\n",
       "      <td>-1.033700</td>\n",
       "      <td>-1.014526</td>\n",
       "      <td>-0.657596</td>\n",
       "      <td>1.418704</td>\n",
       "      <td>-0.627582</td>\n",
       "      <td>0.325523</td>\n",
       "      <td>1.108194</td>\n",
       "    </tr>\n",
       "    <tr>\n",
       "      <th>210</th>\n",
       "      <td>0.186564</td>\n",
       "      <td>-1.351542</td>\n",
       "      <td>-0.947286</td>\n",
       "      <td>3.799403</td>\n",
       "      <td>0.894384</td>\n",
       "      <td>2.512040</td>\n",
       "      <td>-1.033700</td>\n",
       "      <td>-0.750192</td>\n",
       "      <td>1.520691</td>\n",
       "      <td>2.417372</td>\n",
       "      <td>-2.230564</td>\n",
       "      <td>1.355535</td>\n",
       "      <td>1.108194</td>\n",
       "    </tr>\n",
       "    <tr>\n",
       "      <th>211</th>\n",
       "      <td>0.746784</td>\n",
       "      <td>0.739895</td>\n",
       "      <td>2.020565</td>\n",
       "      <td>0.120933</td>\n",
       "      <td>-0.172725</td>\n",
       "      <td>-0.398083</td>\n",
       "      <td>0.839329</td>\n",
       "      <td>-0.221525</td>\n",
       "      <td>-0.657596</td>\n",
       "      <td>1.252260</td>\n",
       "      <td>-0.627582</td>\n",
       "      <td>1.355535</td>\n",
       "      <td>-0.534723</td>\n",
       "    </tr>\n",
       "  </tbody>\n",
       "</table>\n",
       "<p>212 rows × 13 columns</p>\n",
       "</div>"
      ],
      "text/plain": [
       "            0         1         2         3         4         5         6  \\\n",
       "0   -1.270009  0.739895  1.031281 -0.102004  1.427938 -0.398083  0.839329   \n",
       "1   -0.373656  0.739895 -0.947286  0.455340  0.360830 -0.398083 -1.033700   \n",
       "2   -1.718185 -1.351542  1.031281 -2.108443 -0.864369 -0.398083  0.839329   \n",
       "3    0.298608 -1.351542 -0.947286 -0.213473  1.190803 -0.398083 -1.033700   \n",
       "4   -0.485700 -1.351542  0.041998 -0.659348  0.024888 -0.398083  0.839329   \n",
       "..        ...       ...       ...       ...       ...       ...       ...   \n",
       "207 -0.373656  0.739895  1.031281 -2.108443 -0.311054 -0.398083  0.839329   \n",
       "208  0.410652 -1.351542  0.041998  0.232402  1.506983  2.512040 -1.033700   \n",
       "209  1.194960  0.739895 -0.947286  0.176668  0.222501 -0.398083 -1.033700   \n",
       "210  0.186564 -1.351542 -0.947286  3.799403  0.894384  2.512040 -1.033700   \n",
       "211  0.746784  0.739895  2.020565  0.120933 -0.172725 -0.398083  0.839329   \n",
       "\n",
       "            7         8         9        10        11        12  \n",
       "0    0.527421 -0.657596  0.669704  0.975399  0.325523 -0.534723  \n",
       "1    1.584755  1.520691 -0.911520  0.975399 -0.704490 -0.534723  \n",
       "2    1.276366 -0.657596 -0.911520  0.975399 -0.704490 -0.534723  \n",
       "3    0.395254 -0.657596 -0.911520  0.975399  0.325523 -0.534723  \n",
       "4    0.527421 -0.657596  0.003926  0.975399 -0.704490 -0.534723  \n",
       "..        ...       ...       ...       ...       ...       ...  \n",
       "207  0.174976  1.520691 -0.911520  0.975399  0.325523  1.108194  \n",
       "208  0.086864 -0.657596 -0.911520  0.975399  1.355535 -0.534723  \n",
       "209 -1.014526 -0.657596  1.418704 -0.627582  0.325523  1.108194  \n",
       "210 -0.750192  1.520691  2.417372 -2.230564  1.355535  1.108194  \n",
       "211 -0.221525 -0.657596  1.252260 -0.627582  1.355535 -0.534723  \n",
       "\n",
       "[212 rows x 13 columns]"
      ]
     },
     "execution_count": 53,
     "metadata": {},
     "output_type": "execute_result"
    }
   ],
   "source": [
    "x_train, x_test, y_train, y_test = train_test_split(x, y, test_size=0.3, random_state=20)\n",
    "model1=LogisticRegression()\n",
    "scaler = StandardScaler().fit(x_train)\n",
    "xs_train= scaler.transform(x_train)\n",
    "model1.fit(xs_train,y_train)\n",
    "from sklearn.metrics import accuracy_score\n",
    "model1.score\n",
    "xs=pd.DataFrame(xs_train)\n",
    "xs"
   ]
  },
  {
   "cell_type": "code",
   "execution_count": 8,
   "metadata": {},
   "outputs": [],
   "source": [
    "scaler2 = StandardScaler().fit(x_test)\n",
    "xs_test= scaler.transform(x_test)\n",
    "y_predict=model1.predict(xs_test)"
   ]
  },
  {
   "cell_type": "code",
   "execution_count": 9,
   "metadata": {},
   "outputs": [
    {
     "data": {
      "text/plain": [
       "array([[31,  8],\n",
       "       [14, 38]], dtype=int64)"
      ]
     },
     "execution_count": 9,
     "metadata": {},
     "output_type": "execute_result"
    }
   ],
   "source": [
    "confusion_matrix(y_test,y_predict)"
   ]
  },
  {
   "cell_type": "code",
   "execution_count": 10,
   "metadata": {},
   "outputs": [
    {
     "data": {
      "text/plain": [
       "age         0\n",
       "sex         0\n",
       "cp          0\n",
       "trestbps    0\n",
       "chol        0\n",
       "fbs         0\n",
       "restecg     0\n",
       "thalach     0\n",
       "exang       0\n",
       "oldpeak     0\n",
       "slope       0\n",
       "ca          0\n",
       "thal        0\n",
       "target      0\n",
       "dtype: int64"
      ]
     },
     "execution_count": 10,
     "metadata": {},
     "output_type": "execute_result"
    }
   ],
   "source": [
    "data.isnull().sum()"
   ]
  },
  {
   "cell_type": "code",
   "execution_count": 11,
   "metadata": {},
   "outputs": [
    {
     "data": {
      "text/plain": [
       "0.7582417582417582"
      ]
     },
     "execution_count": 11,
     "metadata": {},
     "output_type": "execute_result"
    }
   ],
   "source": [
    "model1.score(xs_test,y_test)"
   ]
  },
  {
   "cell_type": "code",
   "execution_count": 12,
   "metadata": {},
   "outputs": [
    {
     "data": {
      "text/plain": [
       "0.8537735849056604"
      ]
     },
     "execution_count": 12,
     "metadata": {},
     "output_type": "execute_result"
    }
   ],
   "source": [
    "model1.score(xs_train,y_train)"
   ]
  },
  {
   "cell_type": "markdown",
   "metadata": {},
   "source": [
    "# K Nearest Neighbor"
   ]
  },
  {
   "cell_type": "code",
   "execution_count": 15,
   "metadata": {},
   "outputs": [],
   "source": [
    "from sklearn.neighbors import KNeighborsClassifier "
   ]
  },
  {
   "cell_type": "code",
   "execution_count": 36,
   "metadata": {},
   "outputs": [],
   "source": [
    "knn_scores=[]\n",
    "for k in range(1,21):\n",
    "    model2= KNeighborsClassifier(n_neighbors=k)\n",
    "    model2.fit(xs_train,y_train)\n",
    "    score=model2.score(xs_train,y_train)\n",
    "    knn_scores.append(score)"
   ]
  },
  {
   "cell_type": "code",
   "execution_count": 43,
   "metadata": {},
   "outputs": [
    {
     "data": {
      "text/plain": [
       "Text(0.5, 1.0, 'Train Data scores')"
      ]
     },
     "execution_count": 43,
     "metadata": {},
     "output_type": "execute_result"
    },
    {
     "data": {
      "image/png": "[encoded data removed]",
      "text/plain": [
       "<Figure size 432x288 with 1 Axes>"
      ]
     },
     "metadata": {
      "needs_background": "light"
     },
     "output_type": "display_data"
    }
   ],
   "source": [
    "plt.plot([k for k in range(1,21)],knn_scores,'r--')\n",
    "plt.plot([k for k in range(1,21)],knn_scores,'bo')\n",
    "plt.xlabel(\"K Values\")\n",
    "plt.ylabel(\"KNN Score\")\n",
    "plt.title(\"Train Data scores\")"
   ]
  },
  {
   "cell_type": "code",
   "execution_count": 46,
   "metadata": {},
   "outputs": [
    {
     "data": {
      "text/plain": [
       "[1.0,\n",
       " 0.9010989010989011,\n",
       " 0.9120879120879121,\n",
       " 0.9010989010989011,\n",
       " 0.8681318681318682,\n",
       " 0.8571428571428571,\n",
       " 0.8681318681318682,\n",
       " 0.8461538461538461,\n",
       " 0.8681318681318682,\n",
       " 0.8351648351648352,\n",
       " 0.8681318681318682,\n",
       " 0.8791208791208791,\n",
       " 0.8791208791208791,\n",
       " 0.8571428571428571,\n",
       " 0.8681318681318682,\n",
       " 0.8571428571428571,\n",
       " 0.8351648351648352,\n",
       " 0.8351648351648352,\n",
       " 0.8131868131868132,\n",
       " 0.8461538461538461]"
      ]
     },
     "execution_count": 46,
     "metadata": {},
     "output_type": "execute_result"
    }
   ],
   "source": [
    "knn_scores"
   ]
  },
  {
   "cell_type": "code",
   "execution_count": 44,
   "metadata": {},
   "outputs": [
    {
     "data": {
      "text/plain": [
       "Text(0.5, 1.0, 'Test Data scores')"
      ]
     },
     "execution_count": 44,
     "metadata": {},
     "output_type": "execute_result"
    },
    {
     "data": {
      "image/png": "[encoded data removed]",
      "text/plain": [
       "<Figure size 432x288 with 1 Axes>"
      ]
     },
     "metadata": {
      "needs_background": "light"
     },
     "output_type": "display_data"
    }
   ],
   "source": [
    "knn_scores=[]\n",
    "for k in range(1,21):\n",
    "    model2= KNeighborsClassifier(n_neighbors=k)\n",
    "    model2.fit(xs_test,y_test)\n",
    "    score=model2.score(xs_test,y_test)\n",
    "    knn_scores.append(score)\n",
    "plt.plot([k for k in range(1,21)],knn_scores,'g-')\n",
    "plt.plot([k for k in range(1,21)],knn_scores,'ko')\n",
    "plt.xlabel(\"K Values\")\n",
    "plt.ylabel(\"KNN Score\")\n",
    "plt.title(\"Test Data scores\")"
   ]
  },
  {
   "cell_type": "code",
   "execution_count": 45,
   "metadata": {},
   "outputs": [
    {
     "data": {
      "text/plain": [
       "array([[29, 10],\n",
       "       [ 4, 48]], dtype=int64)"
      ]
     },
     "execution_count": 45,
     "metadata": {},
     "output_type": "execute_result"
    }
   ],
   "source": [
    "y_predict=model2.predict(xs_test)\n",
    "confusion_matrix(y_test,y_predict)"
   ]
  },
  {
   "cell_type": "code",
   "execution_count": 51,
   "metadata": {},
   "outputs": [
    {
     "data": {
      "text/plain": [
       "array([[39,  0],\n",
       "       [ 0, 52]], dtype=int64)"
      ]
     },
     "execution_count": 51,
     "metadata": {},
     "output_type": "execute_result"
    }
   ],
   "source": [
    "    model_2= KNeighborsClassifier(n_neighbors=1)\n",
    "    model_2.fit(xs_test,y_test)\n",
    "    score1=model_2.score(xs_test,y_test)\n",
    "    score1\n",
    "    y1=model_2.predict(xs_test)\n",
    "    confusion_matrix(y_test,y1)"
   ]
  }
 ],
 "metadata": {
  "kernelspec": {
   "display_name": "Python 3",
   "language": "python",
   "name": "python3"
  },
  "language_info": {
   "codemirror_mode": {
    "name": "ipython",
    "version": 3
   },
   "file_extension": ".py",
   "mimetype": "text/x-python",
   "name": "python",
   "nbconvert_exporter": "python",
   "pygments_lexer": "ipython3",
   "version": "3.8.3"
  }
 },
 "nbformat": 4,
 "nbformat_minor": 4
}
